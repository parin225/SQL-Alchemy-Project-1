{
 "cells": [
  {
   "cell_type": "code",
   "execution_count": 7,
   "metadata": {},
   "outputs": [],
   "source": [
    "%matplotlib inline\n",
    "from matplotlib import style\n",
    "style.use('fivethirtyeight')\n",
    "import matplotlib.pyplot as plt"
   ]
  },
  {
   "cell_type": "code",
   "execution_count": 8,
   "metadata": {},
   "outputs": [],
   "source": [
    "import numpy as np\n",
    "import pandas as pd"
   ]
  },
  {
   "cell_type": "code",
   "execution_count": 9,
   "metadata": {},
   "outputs": [],
   "source": [
    "import datetime as dt"
   ]
  },
  {
   "cell_type": "markdown",
   "metadata": {},
   "source": [
    "# Reflect Tables into SQLAlchemy ORM"
   ]
  },
  {
   "cell_type": "code",
   "execution_count": 10,
   "metadata": {},
   "outputs": [],
   "source": [
    "#Python SQL toolkit and Object Relational Mapper\n",
    "import sqlalchemy\n",
    "from sqlalchemy.ext.automap import automap_base\n",
    "from sqlalchemy.orm import Session\n",
    "from sqlalchemy import create_engine, func, inspect"
   ]
  },
  {
   "cell_type": "code",
   "execution_count": 13,
   "metadata": {},
   "outputs": [],
   "source": [
    "#create engine to connect to sqlite database\n",
    "engine = create_engine(\"sqlite:///../Resources/hawaii.sqlite\")"
   ]
  },
  {
   "cell_type": "code",
   "execution_count": 14,
   "metadata": {},
   "outputs": [],
   "source": [
    "#reflect an existing database into a new model\n",
    "Base = automap_base()\n",
    "# reflect the tables\n",
    "Base.prepare(engine, reflect=True)"
   ]
  },
  {
   "cell_type": "code",
   "execution_count": 15,
   "metadata": {},
   "outputs": [
    {
     "data": {
      "text/plain": [
       "['measurement', 'station']"
      ]
     },
     "execution_count": 15,
     "metadata": {},
     "output_type": "execute_result"
    }
   ],
   "source": [
    "#view all of the classes that automap found\n",
    "Base.classes.keys()"
   ]
  },
  {
   "cell_type": "code",
   "execution_count": 16,
   "metadata": {},
   "outputs": [],
   "source": [
    "#save references to each table\n",
    "Measurement = Base.classes.measurement\n",
    "Station = Base.classes.station"
   ]
  },
  {
   "cell_type": "code",
   "execution_count": 17,
   "metadata": {},
   "outputs": [],
   "source": [
    "#create session (link) from Python to the DB\n",
    "session = Session(engine)"
   ]
  },
  {
   "cell_type": "code",
   "execution_count": 18,
   "metadata": {},
   "outputs": [
    {
     "data": {
      "text/plain": [
       "['measurement', 'station']"
      ]
     },
     "execution_count": 18,
     "metadata": {},
     "output_type": "execute_result"
    }
   ],
   "source": [
    "#inspect each table\n",
    "inspector = inspect(engine)\n",
    "\n",
    "inspector.get_table_names()"
   ]
  },
  {
   "cell_type": "code",
   "execution_count": 19,
   "metadata": {},
   "outputs": [
    {
     "name": "stdout",
     "output_type": "stream",
     "text": [
      "id INTEGER\n",
      "station TEXT\n",
      "date TEXT\n",
      "prcp FLOAT\n",
      "tobs FLOAT\n"
     ]
    }
   ],
   "source": [
    "#retrieve coloumn name and type for measurement table\n",
    "columns = inspector.get_columns('measurement')\n",
    "for column in columns:\n",
    "    print(column[\"name\"], column[\"type\"])"
   ]
  },
  {
   "cell_type": "code",
   "execution_count": 20,
   "metadata": {},
   "outputs": [
    {
     "name": "stdout",
     "output_type": "stream",
     "text": [
      "id INTEGER\n",
      "station TEXT\n",
      "name TEXT\n",
      "latitude FLOAT\n",
      "longitude FLOAT\n",
      "elevation FLOAT\n"
     ]
    }
   ],
   "source": [
    "#retrieve coloumn name and type for station table\n",
    "columns = inspector.get_columns('station')\n",
    "for column in columns:\n",
    "    print(column[\"name\"], column[\"type\"])"
   ]
  },
  {
   "cell_type": "markdown",
   "metadata": {},
   "source": [
    "# Precipitation Analysis "
   ]
  },
  {
   "cell_type": "code",
   "execution_count": 31,
   "metadata": {},
   "outputs": [
    {
     "data": {
      "image/png": "[encoded data removed]",
      "text/plain": [
       "<Figure size 432x288 with 1 Axes>"
      ]
     },
     "metadata": {},
     "output_type": "display_data"
    }
   ],
   "source": [
    "#retrieve the last date in the dataset\n",
    "last_date = session.query(func.max(Measurement.date)).one()\n",
    "\n",
    "#convert the last date from string into datetime\n",
    "last_date = dt.datetime.strptime(last_date[0], \"%Y-%m-%d\")\n",
    "\n",
    "#retrieve the last 12 months of precipitation data \n",
    "twelve_months_ago = last_date - dt.timedelta(days=365)\n",
    "\n",
    "#retrieve only the date and precipitation vales\n",
    "query = session.query(Measurement.date, Measurement.prcp).\\\n",
    "    filter(Measurement.date >= twelve_months_ago).\\\n",
    "    order_by(Measurement.date).all()\n",
    "\n",
    "#create pandas dataframe and plot the data\n",
    "df = pd.DataFrame(query, columns=['Date', 'Precipitation'])\n",
    "df.sort_values(by='Date')\n",
    "df.set_index('Date', inplace=True)\n",
    "df.plot.line()\n",
    "plt.tick_params(\n",
    "    axis='x',          # changes apply to the x-axis\n",
    "    which='both',      # both major and minor ticks are affected\n",
    "    bottom=False,      # ticks along the bottom edge are off\n",
    "    top=False,         # ticks along the top edge are off\n",
    "    labelbottom=False) # labels along the bottom edge are off\n",
    "plt.tight_layout()\n",
    "plt.title(\"Precipitation over 12 Months\")\n",
    "\n",
    "#summary statistics for precipitation data\n",
    "df.describe()\n",
    "\n",
    "#save figure\n",
    "plt.savefig(\"../Images/precipitation_12_months.png\")\n",
    "\n",
    "plt.show()"
   ]
  },
  {
   "cell_type": "markdown",
   "metadata": {},
   "source": [
    "# Station Analysis"
   ]
  },
  {
   "cell_type": "code",
   "execution_count": 22,
   "metadata": {},
   "outputs": [
    {
     "name": "stdout",
     "output_type": "stream",
     "text": [
      "Total Number of Stations: 9\n"
     ]
    }
   ],
   "source": [
    "#query the total number of stations\n",
    "stations = session.query(Station.station).count()\n",
    "\n",
    "print(\"Total Number of Stations: \" + str(stations))"
   ]
  },
  {
   "cell_type": "code",
   "execution_count": 23,
   "metadata": {},
   "outputs": [
    {
     "data": {
      "text/plain": [
       "[('USC00519281', 2772),\n",
       " ('USC00519397', 2724),\n",
       " ('USC00513117', 2709),\n",
       " ('USC00519523', 2669),\n",
       " ('USC00516128', 2612),\n",
       " ('USC00514830', 2202),\n",
       " ('USC00511918', 1979),\n",
       " ('USC00517948', 1372),\n",
       " ('USC00518838', 511)]"
      ]
     },
     "execution_count": 23,
     "metadata": {},
     "output_type": "execute_result"
    }
   ],
   "source": [
    "#query the most active stations in descending order\n",
    "active_stations = session.query(Measurement.station, func.count(Measurement.tobs)).\\\n",
    "    filter(Measurement.station == Station.station).\\\n",
    "    group_by(Station.station).\\\n",
    "    order_by(func.count(Measurement.tobs).desc()).all()\n",
    "\n",
    "active_stations"
   ]
  },
  {
   "cell_type": "code",
   "execution_count": 24,
   "metadata": {},
   "outputs": [
    {
     "data": {
      "text/plain": [
       "'USC00519281'"
      ]
     },
     "execution_count": 24,
     "metadata": {},
     "output_type": "execute_result"
    }
   ],
   "source": [
    "#which station has the highest number of observations?\n",
    "max_observations = active_stations[0][0]\n",
    "\n",
    "max_observations"
   ]
  },
  {
   "cell_type": "code",
   "execution_count": 25,
   "metadata": {},
   "outputs": [
    {
     "name": "stdout",
     "output_type": "stream",
     "text": [
      "(54.0, 85.0, 71.66378066378067)\n"
     ]
    }
   ],
   "source": [
    "#using the station id from the previous query, calculate the lowest temperature recorded, \n",
    "#highest temperature recorded, and average temperature most active station?\n",
    "\n",
    "#store most active station into a variable\n",
    "most_active = 'USC00519281'\n",
    "\n",
    "station_max_observations = session.query(func.min(Measurement.tobs), func.max(Measurement.tobs),\\\n",
    "    func.avg(Measurement.tobs)).\\\n",
    "    filter(Measurement.station == most_active)\n",
    "\n",
    "for x in station_max_observations:\n",
    "    print(x)"
   ]
  },
  {
   "cell_type": "code",
   "execution_count": 30,
   "metadata": {},
   "outputs": [
    {
     "data": {
      "image/png": "[encoded data removed]",
      "text/plain": [
       "<Figure size 432x288 with 1 Axes>"
      ]
     },
     "metadata": {},
     "output_type": "display_data"
    }
   ],
   "source": [
    "#retrieve the last 12 months of temperature observation data\n",
    "twelve_months_temp = dt.date(2017,8,23) - dt.timedelta(days=365)\n",
    "\n",
    "#retrieve temperature observation data for the station with highest observations\n",
    "query = session.query(Measurement.date, Measurement.tobs).\\\n",
    "    filter (Measurement.date >= twelve_months_temp).\\\n",
    "    filter(Measurement.station == most_active).\\\n",
    "    order_by(Measurement.date).all()\n",
    "\n",
    "#create pandas dataframe & plot the results as a hisogram\n",
    "df = pd.DataFrame(query, columns=['Date', 'Temperature'])\n",
    "df.sort_values(by='Date')\n",
    "\n",
    "x = df['Temperature']\n",
    "plt.hist(x, bins=12, label='tobs')\n",
    "plt.ylabel('Frequency')\n",
    "plt.legend()\n",
    "plt.title('Temperature')\n",
    "\n",
    "#save figure\n",
    "plt.savefig(\"../Images/temperature.png\")"
   ]
  },
  {
   "cell_type": "markdown",
   "metadata": {},
   "source": [
    "# Temperature Analysis"
   ]
  },
  {
   "cell_type": "code",
   "execution_count": 27,
   "metadata": {},
   "outputs": [
    {
     "name": "stdout",
     "output_type": "stream",
     "text": [
      "[(62.0, 69.57142857142857, 74.0)]\n"
     ]
    }
   ],
   "source": [
    "#this function called `calc_temps` will accept start date and end date in the format '%Y-%m-%d' \n",
    "#and return the minimum, average, and maximum temperatures for that range of dates\n",
    "def calc_temps(start_date, end_date):\n",
    "    \"\"\"TMIN, TAVG, and TMAX for a list of dates.\n",
    "    \n",
    "    Args:\n",
    "        start_date (string): A date string in the format %Y-%m-%d\n",
    "        end_date (string): A date string in the format %Y-%m-%d\n",
    "        \n",
    "    Returns:\n",
    "        TMIN, TAVE, and TMAX\n",
    "    \"\"\"\n",
    "    \n",
    "    return session.query(func.min(Measurement.tobs), func.avg(Measurement.tobs), func.max(Measurement.tobs)).\\\n",
    "        filter(Measurement.date >= start_date).filter(Measurement.date <= end_date).all()\n",
    "\n",
    "#function usage example\n",
    "print(calc_temps('2012-02-28', '2012-03-05'))"
   ]
  },
  {
   "cell_type": "code",
   "execution_count": 28,
   "metadata": {},
   "outputs": [
    {
     "data": {
      "text/plain": [
       "[(71.0, 77.86407766990291, 82.0)]"
      ]
     },
     "execution_count": 28,
     "metadata": {},
     "output_type": "execute_result"
    }
   ],
   "source": [
    "#use previous function `calc_temps` to calculate the tmin, tavg, and tmax \n",
    "#for your trip using the previous year's data for those same dates.\n",
    "\n",
    "#start and end date for my trip\n",
    "start = '2016-09-27'\n",
    "end = '2016-10-12'\n",
    "\n",
    "mytrip = (calc_temps(start, end))\n",
    "mytrip"
   ]
  },
  {
   "cell_type": "code",
   "execution_count": 32,
   "metadata": {},
   "outputs": [
    {
     "data": {
      "image/png": "[encoded data removed]",
      "text/plain": [
       "<Figure size 432x288 with 1 Axes>"
      ]
     },
     "metadata": {},
     "output_type": "display_data"
    }
   ],
   "source": [
    "#plot the results from previous query as a bar chart. \n",
    "#use \"Trip Avg Temp\" as Title\n",
    "#use the average temperature for the y value\n",
    "#use the peak-to-peak (tmax-tmin) value as the y error bar (yerr)\n",
    "\n",
    "#create dataframe\n",
    "df = pd.DataFrame(mytrip, columns=['Minimum', 'Average', 'Maximum'])\n",
    "\n",
    "#calculate the peak-to-peak\n",
    "error = df[\"Maximum\"] - df[\"Minimum\"]\n",
    "\n",
    "#plot the results\n",
    "df[\"Average\"].plot.bar(color='coral', alpha=0.5, yerr=error)\n",
    "plt.title(\"Trip Avg. Temp\")\n",
    "plt.xticks([])\n",
    "plt.ylim(0, 100)\n",
    "plt.ylabel(\"Temp(F)\")\n",
    "\n",
    "#save figure\n",
    "plt.savefig(\"../Images/trip_avg_temp.png\")\n",
    "\n",
    "plt.show()"
   ]
  },
  {
   "cell_type": "markdown",
   "metadata": {},
   "source": [
    "# Daily Rainfall Average"
   ]
  },
  {
   "cell_type": "code",
   "execution_count": 33,
   "metadata": {},
   "outputs": [
    {
     "name": "stdout",
     "output_type": "stream",
     "text": [
      "('USC00519523', 'WAIMANALO EXPERIMENTAL FARM, HI US', 21.33556, -157.71139, 19.5, 1276.0)\n",
      "('USC00519397', 'WAIKIKI 717.2, HI US', 21.2716, -157.8168, 3.0, 1264.0)\n",
      "('USC00519281', 'WAIHEE 837.5, HI US', 21.45167, -157.84888999999998, 32.9, 1230.0)\n",
      "('USC00513117', 'KANEOHE 838.1, HI US', 21.4234, -157.8015, 14.6, 1226.0)\n",
      "('USC00516128', 'MANOA LYON ARBO 785.2, HI US', 21.3331, -157.8025, 152.4, 1198.0)\n",
      "('USC00514830', 'KUALOA RANCH HEADQUARTERS 886.9, HI US', 21.5213, -157.8374, 7.0, 1115.0)\n",
      "('USC00517948', 'PEARL CITY, HI US', 21.3934, -157.9751, 11.9, 711.0)\n"
     ]
    }
   ],
   "source": [
    "#calculate the total amount of rainfall per weather station for your trip dates using the previous year's matching dates.\n",
    "#sort this in descending order by precipitation amount and list the station, name, latitude, longitude, and elevation\n",
    "\n",
    "mytrip_sessions = session.query(Station.station, Station.name, Station.latitude, Station.longitude, Station.elevation,\n",
    "    func.sum(Measurement.tobs)).\\\n",
    "    filter(Measurement.station == Station.station).\\\n",
    "    filter(Measurement.date >= start).\\\n",
    "    filter(Measurement.date <= end).\\\n",
    "    group_by(Measurement.station).\\\n",
    "    order_by(func.sum(Measurement.tobs).desc()).all()\n",
    "\n",
    "for x in mytrip_sessions:\n",
    "    print(x)"
   ]
  },
  {
   "cell_type": "code",
   "execution_count": 34,
   "metadata": {},
   "outputs": [
    {
     "data": {
      "text/plain": [
       "[(62.0, 69.15384615384616, 77.0)]"
      ]
     },
     "execution_count": 34,
     "metadata": {},
     "output_type": "execute_result"
    }
   ],
   "source": [
    "#create a query that will calculate the daily normals \n",
    "#(i.e. the averages for tmin, tmax, and tavg for all historic data matching a specific month and day)\n",
    "\n",
    "def daily_normals(date):\n",
    "    \"\"\"Daily Normals.\n",
    "    \n",
    "    Args:\n",
    "        date (str): A date string in the format '%m-%d'\n",
    "        \n",
    "    Returns:\n",
    "        A list of tuples containing the daily normals, tmin, tavg, and tmax\n",
    "    \n",
    "    \"\"\"\n",
    "    \n",
    "    sel = [func.min(Measurement.tobs), func.avg(Measurement.tobs), func.max(Measurement.tobs)]\n",
    "    return session.query(*sel).filter(func.strftime(\"%m-%d\", Measurement.date) == date).all()\n",
    "    \n",
    "daily_normals(\"01-01\")"
   ]
  },
  {
   "cell_type": "code",
   "execution_count": 35,
   "metadata": {
    "scrolled": true
   },
   "outputs": [
    {
     "data": {
      "text/plain": [
       "[(68.0, 75.64, 83.0),\n",
       " (67.0, 76.13461538461539, 84.0),\n",
       " (68.0, 75.97872340425532, 83.0),\n",
       " (67.0, 75.3061224489796, 83.0),\n",
       " (69.0, 75.22916666666667, 80.0),\n",
       " (70.0, 76.26, 83.0),\n",
       " (66.0, 76.73076923076923, 84.0),\n",
       " (67.0, 75.86274509803921, 82.0),\n",
       " (67.0, 76.16666666666667, 84.0),\n",
       " (70.0, 75.42, 81.0),\n",
       " (68.0, 75.6078431372549, 81.0),\n",
       " (66.0, 76.3265306122449, 86.0),\n",
       " (69.0, 76.11363636363636, 84.0),\n",
       " (69.0, 75.85416666666667, 83.0),\n",
       " (69.0, 76.57142857142857, 84.0),\n",
       " (65.0, 75.75510204081633, 82.0),\n",
       " (68.0, 75.64, 83.0),\n",
       " (67.0, 76.13461538461539, 84.0),\n",
       " (68.0, 75.97872340425532, 83.0),\n",
       " (67.0, 75.3061224489796, 83.0),\n",
       " (69.0, 75.22916666666667, 80.0),\n",
       " (70.0, 76.26, 83.0),\n",
       " (66.0, 76.73076923076923, 84.0),\n",
       " (67.0, 75.86274509803921, 82.0),\n",
       " (67.0, 76.16666666666667, 84.0),\n",
       " (70.0, 75.42, 81.0),\n",
       " (68.0, 75.6078431372549, 81.0),\n",
       " (66.0, 76.3265306122449, 86.0),\n",
       " (69.0, 76.11363636363636, 84.0),\n",
       " (69.0, 75.85416666666667, 83.0),\n",
       " (69.0, 76.57142857142857, 84.0),\n",
       " (65.0, 75.75510204081633, 82.0),\n",
       " (68.0, 75.64, 83.0),\n",
       " (67.0, 76.13461538461539, 84.0),\n",
       " (68.0, 75.97872340425532, 83.0),\n",
       " (67.0, 75.3061224489796, 83.0),\n",
       " (69.0, 75.22916666666667, 80.0),\n",
       " (70.0, 76.26, 83.0),\n",
       " (66.0, 76.73076923076923, 84.0),\n",
       " (67.0, 75.86274509803921, 82.0),\n",
       " (67.0, 76.16666666666667, 84.0),\n",
       " (70.0, 75.42, 81.0),\n",
       " (68.0, 75.6078431372549, 81.0),\n",
       " (69.0, 75.85416666666667, 83.0),\n",
       " (69.0, 76.57142857142857, 84.0),\n",
       " (65.0, 75.75510204081633, 82.0),\n",
       " (67.0, 76.13461538461539, 84.0),\n",
       " (68.0, 75.97872340425532, 83.0),\n",
       " (67.0, 75.3061224489796, 83.0),\n",
       " (66.0, 76.73076923076923, 84.0),\n",
       " (67.0, 75.86274509803921, 82.0),\n",
       " (67.0, 76.16666666666667, 84.0),\n",
       " (70.0, 75.42, 81.0),\n",
       " (68.0, 75.6078431372549, 81.0),\n",
       " (69.0, 76.57142857142857, 84.0),\n",
       " (68.0, 75.64, 83.0),\n",
       " (67.0, 76.13461538461539, 84.0),\n",
       " (68.0, 75.97872340425532, 83.0),\n",
       " (67.0, 75.3061224489796, 83.0),\n",
       " (69.0, 75.22916666666667, 80.0),\n",
       " (70.0, 76.26, 83.0),\n",
       " (66.0, 76.73076923076923, 84.0),\n",
       " (67.0, 75.86274509803921, 82.0),\n",
       " (67.0, 76.16666666666667, 84.0),\n",
       " (70.0, 75.42, 81.0),\n",
       " (68.0, 75.6078431372549, 81.0),\n",
       " (66.0, 76.3265306122449, 86.0),\n",
       " (69.0, 76.11363636363636, 84.0),\n",
       " (69.0, 75.85416666666667, 83.0),\n",
       " (69.0, 76.57142857142857, 84.0),\n",
       " (65.0, 75.75510204081633, 82.0),\n",
       " (68.0, 75.64, 83.0),\n",
       " (67.0, 76.13461538461539, 84.0),\n",
       " (68.0, 75.97872340425532, 83.0),\n",
       " (67.0, 75.3061224489796, 83.0),\n",
       " (69.0, 75.22916666666667, 80.0),\n",
       " (70.0, 76.26, 83.0),\n",
       " (66.0, 76.73076923076923, 84.0),\n",
       " (67.0, 75.86274509803921, 82.0),\n",
       " (67.0, 76.16666666666667, 84.0),\n",
       " (70.0, 75.42, 81.0),\n",
       " (68.0, 75.6078431372549, 81.0),\n",
       " (66.0, 76.3265306122449, 86.0),\n",
       " (69.0, 76.11363636363636, 84.0),\n",
       " (69.0, 75.85416666666667, 83.0),\n",
       " (69.0, 76.57142857142857, 84.0),\n",
       " (65.0, 75.75510204081633, 82.0),\n",
       " (68.0, 75.64, 83.0),\n",
       " (67.0, 76.13461538461539, 84.0),\n",
       " (68.0, 75.97872340425532, 83.0),\n",
       " (67.0, 75.3061224489796, 83.0),\n",
       " (69.0, 75.22916666666667, 80.0),\n",
       " (70.0, 76.26, 83.0),\n",
       " (66.0, 76.73076923076923, 84.0),\n",
       " (67.0, 75.86274509803921, 82.0),\n",
       " (67.0, 76.16666666666667, 84.0),\n",
       " (70.0, 75.42, 81.0),\n",
       " (68.0, 75.6078431372549, 81.0),\n",
       " (66.0, 76.3265306122449, 86.0),\n",
       " (69.0, 76.11363636363636, 84.0),\n",
       " (69.0, 75.85416666666667, 83.0),\n",
       " (69.0, 76.57142857142857, 84.0),\n",
       " (65.0, 75.75510204081633, 82.0)]"
      ]
     },
     "execution_count": 35,
     "metadata": {},
     "output_type": "execute_result"
    }
   ],
   "source": [
    "#calculate the daily normals for the trip\n",
    "\n",
    "#push each tuple of calculations into a list called `normals`\n",
    "normal = []\n",
    "datelist=[]\n",
    "\n",
    "\n",
    "#use the start and end date to create a range of dates\n",
    "dates = session.query(Measurement.date).\\\n",
    "    filter(Measurement.date >= start).\\\n",
    "    filter(Measurement.date <= end)\n",
    "\n",
    "#strip off the year and save a list of %m-%d strings\n",
    "for date in dates:\n",
    "   datelist.append(dt.datetime.strptime(date[0],'%Y-%m-%d').strftime('%m-%d'))                     \n",
    "                     \n",
    "#loop through the list of %m-%d strings and calculate the normals for each date\n",
    "for date in datelist:\n",
    "    norm = (daily_normals(date))\n",
    "    normal.extend(norm)\n",
    "    \n",
    "normal"
   ]
  },
  {
   "cell_type": "code",
   "execution_count": 36,
   "metadata": {},
   "outputs": [
    {
     "data": {
      "text/html": [
       "<div>\n",
       "<style scoped>\n",
       "    .dataframe tbody tr th:only-of-type {\n",
       "        vertical-align: middle;\n",
       "    }\n",
       "\n",
       "    .dataframe tbody tr th {\n",
       "        vertical-align: top;\n",
       "    }\n",
       "\n",
       "    .dataframe thead th {\n",
       "        text-align: right;\n",
       "    }\n",
       "</style>\n",
       "<table border=\"1\" class=\"dataframe\">\n",
       "  <thead>\n",
       "    <tr style=\"text-align: right;\">\n",
       "      <th></th>\n",
       "      <th>Temp_Min</th>\n",
       "      <th>Temp_Max</th>\n",
       "      <th>Temp_Avg</th>\n",
       "    </tr>\n",
       "    <tr>\n",
       "      <th>Dates</th>\n",
       "      <th></th>\n",
       "      <th></th>\n",
       "      <th></th>\n",
       "    </tr>\n",
       "  </thead>\n",
       "  <tbody>\n",
       "    <tr>\n",
       "      <th>09-27</th>\n",
       "      <td>68.0</td>\n",
       "      <td>75.640000</td>\n",
       "      <td>83.0</td>\n",
       "    </tr>\n",
       "    <tr>\n",
       "      <th>09-28</th>\n",
       "      <td>67.0</td>\n",
       "      <td>76.134615</td>\n",
       "      <td>84.0</td>\n",
       "    </tr>\n",
       "    <tr>\n",
       "      <th>09-29</th>\n",
       "      <td>68.0</td>\n",
       "      <td>75.978723</td>\n",
       "      <td>83.0</td>\n",
       "    </tr>\n",
       "    <tr>\n",
       "      <th>09-30</th>\n",
       "      <td>67.0</td>\n",
       "      <td>75.306122</td>\n",
       "      <td>83.0</td>\n",
       "    </tr>\n",
       "    <tr>\n",
       "      <th>10-01</th>\n",
       "      <td>69.0</td>\n",
       "      <td>75.229167</td>\n",
       "      <td>80.0</td>\n",
       "    </tr>\n",
       "  </tbody>\n",
       "</table>\n",
       "</div>"
      ],
      "text/plain": [
       "       Temp_Min   Temp_Max  Temp_Avg\n",
       "Dates                               \n",
       "09-27      68.0  75.640000      83.0\n",
       "09-28      67.0  76.134615      84.0\n",
       "09-29      68.0  75.978723      83.0\n",
       "09-30      67.0  75.306122      83.0\n",
       "10-01      69.0  75.229167      80.0"
      ]
     },
     "execution_count": 36,
     "metadata": {},
     "output_type": "execute_result"
    }
   ],
   "source": [
    "#load the previous query results into a Pandas DataFrame and add the `trip_dates` range as the `date` index\n",
    "\n",
    "#extract the different information needed for dataframe columns\n",
    "Temp_Min = [x[0] for x in normal]\n",
    "Temp_Max = [x[1] for x in normal]\n",
    "Temp_Avg = [x[2] for x in normal]\n",
    "dates = datelist\n",
    "\n",
    "#create dataframe\n",
    "df = pd.DataFrame({\"Temp_Min\": Temp_Min, \"Temp_Max\": Temp_Max, \"Temp_Avg\": Temp_Avg, \"Dates\": dates})\n",
    "        \n",
    "df.set_index(\"Dates\", inplace=True)\n",
    "\n",
    "df.head()"
   ]
  },
  {
   "cell_type": "code",
   "execution_count": 38,
   "metadata": {},
   "outputs": [
    {
     "data": {
      "image/png": "[encoded data removed]",
      "text/plain": [
       "<Figure size 432x288 with 1 Axes>"
      ]
     },
     "metadata": {},
     "output_type": "display_data"
    }
   ],
   "source": [
    "#plot the daily normals as an area plot with `stacked=False`\n",
    "df.plot(kind=\"area\", stacked=False)\n",
    "\n",
    "#save figure\n",
    "plt.savefig(\"../Images/rainfall.png\")"
   ]
  },
  {
   "cell_type": "code",
   "execution_count": null,
   "metadata": {},
   "outputs": [],
   "source": []
  }
 ],
 "metadata": {
  "kernel_info": {
   "name": "python3"
  },
  "kernelspec": {
   "display_name": "Python 3",
   "language": "python",
   "name": "python3"
  },
  "language_info": {
   "codemirror_mode": {
    "name": "ipython",
    "version": 3
   },
   "file_extension": ".py",
   "mimetype": "text/x-python",
   "name": "python",
   "nbconvert_exporter": "python",
   "pygments_lexer": "ipython3",
   "version": "3.7.1"
  },
  "nteract": {
   "version": "0.12.3"
  },
  "varInspector": {
   "cols": {
    "lenName": 16,
    "lenType": 16,
    "lenVar": 40
   },
   "kernels_config": {
    "python": {
     "delete_cmd_postfix": "",
     "delete_cmd_prefix": "del ",
     "library": "var_list.py",
     "varRefreshCmd": "print(var_dic_list())"
    },
    "r": {
     "delete_cmd_postfix": ") ",
     "delete_cmd_prefix": "rm(",
     "library": "var_list.r",
     "varRefreshCmd": "cat(var_dic_list()) "
    }
   },
   "types_to_exclude": [
    "module",
    "function",
    "builtin_function_or_method",
    "instance",
    "_Feature"
   ],
   "window_display": false
  }
 },
 "nbformat": 4,
 "nbformat_minor": 2
}
